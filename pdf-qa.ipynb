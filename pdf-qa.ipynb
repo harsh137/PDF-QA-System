{
 "cells": [
  {
   "cell_type": "code",
   "execution_count": 1,
   "id": "f3a8f729-2b0c-4896-8fbc-1c4b9151db09",
   "metadata": {},
   "outputs": [],
   "source": [
    "# Import required modules\n",
    "from langchain import hub\n",
    "from langchain.chains import RetrievalQA\n",
    "from langchain.callbacks.streaming_stdout import StreamingStdOutCallbackHandler\n",
    "from langchain.callbacks.manager import CallbackManager\n",
    "from langchain.llms import Ollama\n",
    "from langchain.embeddings.ollama import OllamaEmbeddings\n",
    "from langchain.vectorstores import Chroma\n",
    "from langchain.text_splitter import RecursiveCharacterTextSplitter\n",
    "from langchain.document_loaders import PyPDFLoader\n",
    "from langchain.prompts import PromptTemplate\n",
    "from langchain.memory import ConversationBufferMemory\n",
    "import streamlit as st\n",
    "import os\n",
    "import time"
   ]
  },
  {
   "cell_type": "code",
   "execution_count": 2,
   "id": "1380c28e-26ea-4d0b-a9dc-ea98d98959c6",
   "metadata": {},
   "outputs": [],
   "source": [
    "FILEPATH    = \"resume6.pdf\" \n",
    "LOCAL_MODEL = \"llama3\"\n",
    "EMBEDDING   = \"nomic-embed-text\""
   ]
  },
  {
   "cell_type": "code",
   "execution_count": 3,
   "id": "dad1b765-2dbc-442c-909c-a28de8366882",
   "metadata": {},
   "outputs": [],
   "source": [
    "loader = PyPDFLoader(FILEPATH)\n",
    "data = loader.load()\n",
    "\n",
    "text_splitter = RecursiveCharacterTextSplitter(\n",
    "    chunk_size=1500, chunk_overlap=100)\n",
    "all_splits = text_splitter.split_documents(data)"
   ]
  },
  {
   "cell_type": "code",
   "execution_count": 4,
   "id": "c6fc7ea7-c332-4c5f-89fe-e3951056208a",
   "metadata": {},
   "outputs": [
    {
     "name": "stderr",
     "output_type": "stream",
     "text": [
      "C:\\Users\\Asus\\AppData\\Local\\Temp\\ipykernel_24584\\2895862556.py:5: LangChainDeprecationWarning: The class `OllamaEmbeddings` was deprecated in LangChain 0.3.1 and will be removed in 1.0.0. An updated version of the class exists in the :class:`~langchain-ollama package and should be used instead. To use it run `pip install -U :class:`~langchain-ollama` and import as `from :class:`~langchain_ollama import OllamaEmbeddings``.\n",
      "  embedding=OllamaEmbeddings(model=EMBEDDING),\n"
     ]
    }
   ],
   "source": [
    "persist_directory = 'data'\n",
    "\n",
    "vectorstore = Chroma.from_documents(\n",
    "    documents=all_splits, \n",
    "    embedding=OllamaEmbeddings(model=EMBEDDING),\n",
    "    persist_directory=persist_directory\n",
    ")\n",
    "\n",
    "# vectorstore.persist()"
   ]
  },
  {
   "cell_type": "code",
   "execution_count": 5,
   "id": "663e103f-b668-4b9b-8fe3-1c00ff15cc5a",
   "metadata": {},
   "outputs": [
    {
     "name": "stderr",
     "output_type": "stream",
     "text": [
      "C:\\Users\\Asus\\AppData\\Local\\Temp\\ipykernel_24584\\3370977395.py:11: LangChainDeprecationWarning: The class `Ollama` was deprecated in LangChain 0.3.1 and will be removed in 1.0.0. An updated version of the class exists in the :class:`~langchain-ollama package and should be used instead. To use it run `pip install -U :class:`~langchain-ollama` and import as `from :class:`~langchain_ollama import OllamaLLM``.\n",
      "  llm = Ollama(\n"
     ]
    }
   ],
   "source": [
    "# llm = Ollama(base_url=\"http://localhost:11434\",\n",
    "#                                   model=LOCAL_MODEL,\n",
    "#                                   verbose=True,\n",
    "#                                   callback_manager=CallbackManager(\n",
    "#                                       [StreamingStdOutCallbackHandler()])\n",
    "#                                   )\n",
    "\n",
    "# retriever = vectorstore.as_retriever()\n",
    "\n",
    "\n",
    "llm = Ollama(\n",
    "    base_url=\"http://localhost:11434\",\n",
    "    model=LOCAL_MODEL,\n",
    "    verbose=True,\n",
    "    callbacks=[StreamingStdOutCallbackHandler()]  # Use `callbacks` instead of `callback_manager`\n",
    ")\n",
    "\n",
    "retriever = vectorstore.as_retriever()"
   ]
  },
  {
   "cell_type": "code",
   "execution_count": 6,
   "id": "6b03e7e2-0491-434f-9924-d1c7bf4147e3",
   "metadata": {},
   "outputs": [
    {
     "name": "stderr",
     "output_type": "stream",
     "text": [
      "C:\\Users\\Asus\\AppData\\Local\\Temp\\ipykernel_24584\\2668035149.py:14: LangChainDeprecationWarning: Please see the migration guide at: https://python.langchain.com/docs/versions/migrating_memory/\n",
      "  memory = ConversationBufferMemory(\n"
     ]
    }
   ],
   "source": [
    "template = \"\"\" You are a knowledgeable chatbot, here to help with questions of the user. Your tone should be professional and informative.\n",
    "    \n",
    "    Context: {context}\n",
    "    History: {history}\n",
    "\n",
    "    User: {question}\n",
    "    Chatbot:\n",
    "    \"\"\"\n",
    "prompt = PromptTemplate(\n",
    "        input_variables=[\"history\", \"context\", \"question\"],\n",
    "        template=template,\n",
    "    )\n",
    "\n",
    "memory = ConversationBufferMemory(\n",
    "        memory_key=\"history\",\n",
    "        return_messages=True,\n",
    "        input_key=\"question\"\n",
    "    )\n"
   ]
  },
  {
   "cell_type": "code",
   "execution_count": 7,
   "id": "96ff62cc-d711-420c-831a-65bc2a47502c",
   "metadata": {},
   "outputs": [],
   "source": [
    "qa_chain = RetrievalQA.from_chain_type(\n",
    "            llm=llm,\n",
    "            chain_type='stuff',\n",
    "            retriever=retriever,\n",
    "            verbose=True,\n",
    "            chain_type_kwargs={\n",
    "                \"verbose\": True,\n",
    "                \"prompt\": prompt,\n",
    "                \"memory\": memory,\n",
    "            }\n",
    "        )"
   ]
  },
  {
   "cell_type": "code",
   "execution_count": 8,
   "id": "8f0f7ae7-29bc-48c2-9907-4cfc3b8aa495",
   "metadata": {},
   "outputs": [],
   "source": [
    "query = \"what is the GPA of harsh in MAster of computer Application\"\n",
    "query += \". Only from this pdf. Keep it short\"\n",
    "# response = qa_chain(query)"
   ]
  },
  {
   "cell_type": "code",
   "execution_count": 9,
   "id": "bdfba610-9990-4997-af0d-eb72a30f6245",
   "metadata": {
    "scrolled": true
   },
   "outputs": [
    {
     "name": "stdout",
     "output_type": "stream",
     "text": [
      "\n",
      "\n",
      "\u001b[1m> Entering new RetrievalQA chain...\u001b[0m\n",
      "\n",
      "\n",
      "\u001b[1m> Entering new StuffDocumentsChain chain...\u001b[0m\n",
      "\n",
      "\n",
      "\u001b[1m> Entering new LLMChain chain...\u001b[0m\n",
      "Prompt after formatting:\n",
      "\u001b[32;1m\u001b[1;3m You are a knowledgeable chatbot, here to help with questions of the user. Your tone should be professional and informative.\n",
      "    \n",
      "    Context: HARSH GUPTA \n",
      "+91-8825334559 | guptaharsh137@gmail.com| LinkedIn |GitHub \n",
      " \n",
      "EDUCATION \n",
      " \n",
      "Jain (Deemed to be University) (Present)  \n",
      "Master of Computer Application – AI/ML                                                                                                                        Current \n",
      "CGPA 7.8 \n",
      "Lovely Professional University  May 2023 \n",
      "Bachelor of Computer Application – Application Development  GPA 8.55 \n",
      " \n",
      "SKILLS \n",
      " \n",
      "Technical: Data Structures and Algorithms(intermediate) ,Object Oriented Programming(intermediate), Machine \n",
      "Learning \n",
      "Languages:  C++(intermediate) , Python(intermediate), Java(Beginner)  \n",
      "Frontend:  ReactJs , NextJs ,HTML5, TailwindCSS  \n",
      "Backend: NodeJs , Express ,  Mongooes \n",
      "Database: MongoDB, MySQL  \n",
      "Other:  Git/GitHub, VS Code, Jupyter Notebook, Office \n",
      "Soft Skills: Teamwork, Good Communication, Easy To Adapt Environment , Leadership   \n",
      " \n",
      "  EXPERIENCE \n",
      " \n",
      "Frontend Developer(Internship) -Naturemark Systems – Remote                         April-2024-May 2024  \n",
      "• I have been deployed as a Frontend developer , I placed on there Marketplace Building Team For Carbon Credit \n",
      "Verification and Sale and  Purchase , Improve the Engagement by 20% with the improvement in UI/UX \n",
      "• We Optimize the Marketplace to load 20% faster and smoother, I also added the  Tailwind CSS which Saves times \n",
      "during build the Marketplace  \n",
      " \n",
      "  Web Developer(Internship) – Suvidha Foundation – Remote                                                       Oct 2023 – Nov 2023\n",
      "\n",
      "HARSH GUPTA \n",
      "+91-8825334559 | guptaharsh137@gmail.com| LinkedIn |GitHub \n",
      " \n",
      "EDUCATION \n",
      " \n",
      "Jain (Deemed to be University) (Present)  \n",
      "Master of Computer Application – AI/ML                                                                                                                        Current \n",
      "CGPA 7.8 \n",
      "Lovely Professional University  May 2023 \n",
      "Bachelor of Computer Application – Application Development  GPA 8.55 \n",
      " \n",
      "SKILLS \n",
      " \n",
      "Technical: Data Structures and Algorithms(intermediate) ,Object Oriented Programming(intermediate), Machine \n",
      "Learning \n",
      "Languages:  C++(intermediate) , Python(intermediate), Java(Beginner)  \n",
      "Frontend:  ReactJs , NextJs ,HTML5, TailwindCSS  \n",
      "Backend: NodeJs , Express ,  Mongooes \n",
      "Database: MongoDB, MySQL  \n",
      "Other:  Git/GitHub, VS Code, Jupyter Notebook, Office \n",
      "Soft Skills: Teamwork, Good Communication, Easy To Adapt Environment , Leadership   \n",
      " \n",
      "  EXPERIENCE \n",
      " \n",
      "Frontend Developer(Internship) -Naturemark Systems – Remote                         April-2024-May 2024  \n",
      "• I have been deployed as a Frontend developer , I placed on there Marketplace Building Team For Carbon Credit \n",
      "Verification and Sale and  Purchase , Improve the Engagement by 20% with the improvement in UI/UX \n",
      "• We Optimize the Marketplace to load 20% faster and smoother, I also added the  Tailwind CSS which Saves times \n",
      "during build the Marketplace  \n",
      " \n",
      "  Web Developer(Internship) – Suvidha Foundation – Remote                                                       Oct 2023 – Nov 2023\n",
      "\n",
      "HARSH GUPTA \n",
      "+91-8825334559 | guptaharsh137@gmail.com| LinkedIn |GitHub \n",
      " \n",
      "EDUCATION \n",
      " \n",
      "Jain (Deemed to be University) (Present)  \n",
      "Master of Computer Application – AI/ML                                                                                                                        Current \n",
      "CGPA 7.8 \n",
      "Lovely Professional University  May 2023 \n",
      "Bachelor of Computer Application – Application Development  GPA 8.55 \n",
      " \n",
      "SKILLS \n",
      " \n",
      "Technical: Data Structures and Algorithms(intermediate) ,Object Oriented Programming(intermediate), Machine \n",
      "Learning \n",
      "Languages:  C++(intermediate) , Python(intermediate), Java(Beginner)  \n",
      "Frontend:  ReactJs , NextJs ,HTML5, TailwindCSS  \n",
      "Backend: NodeJs , Express ,  Mongooes \n",
      "Database: MongoDB, MySQL  \n",
      "Other:  Git/GitHub, VS Code, Jupyter Notebook, Office \n",
      "Soft Skills: Teamwork, Good Communication, Easy To Adapt Environment , Leadership   \n",
      " \n",
      "  EXPERIENCE \n",
      " \n",
      "Frontend Developer(Internship) -Naturemark Systems – Remote                         April-2024-May 2024  \n",
      "• I have been deployed as a Frontend developer , I placed on there Marketplace Building Team For Carbon Credit \n",
      "Verification and Sale and  Purchase , Improve the Engagement by 20% with the improvement in UI/UX \n",
      "• We Optimize the Marketplace to load 20% faster and smoother, I also added the  Tailwind CSS which Saves times \n",
      "during build the Marketplace  \n",
      " \n",
      "  Web Developer(Internship) – Suvidha Foundation – Remote                                                       Oct 2023 – Nov 2023\n",
      "\n",
      "HARSH GUPTA \n",
      "+91-8825334559 | guptaharsh137@gmail.com| LinkedIn |GitHub \n",
      " \n",
      "EDUCATION \n",
      " \n",
      "Jain (Deemed to be University) (Present)  \n",
      "Master of Computer Application – AI/ML                                                                                                                        Current \n",
      "CGPA 7.8 \n",
      "Lovely Professional University  May 2023 \n",
      "Bachelor of Computer Application – Application Development  GPA 8.55 \n",
      " \n",
      "SKILLS \n",
      " \n",
      "Technical: Data Structures and Algorithms(intermediate) ,Object Oriented Programming(intermediate), Machine \n",
      "Learning \n",
      "Languages:  C++(intermediate) , Python(intermediate), Java(Beginner)  \n",
      "Frontend:  ReactJs , NextJs ,HTML5, TailwindCSS  \n",
      "Backend: NodeJs , Express ,  Mongooes \n",
      "Database: MongoDB, MySQL  \n",
      "Other:  Git/GitHub, VS Code, Jupyter Notebook, Office \n",
      "Soft Skills: Teamwork, Good Communication, Easy To Adapt Environment , Leadership   \n",
      " \n",
      "  EXPERIENCE \n",
      " \n",
      "Frontend Developer(Internship) -Naturemark Systems – Remote                         April-2024-May 2024  \n",
      "• I have been deployed as a Frontend developer , I placed on there Marketplace Building Team For Carbon Credit \n",
      "Verification and Sale and  Purchase , Improve the Engagement by 20% with the improvement in UI/UX \n",
      "• We Optimize the Marketplace to load 20% faster and smoother, I also added the  Tailwind CSS which Saves times \n",
      "during build the Marketplace  \n",
      " \n",
      "  Web Developer(Internship) – Suvidha Foundation – Remote                                                       Oct 2023 – Nov 2023\n",
      "    History: []\n",
      "\n",
      "    User: what is the GPA of harsh in MAster of computer Application. Only from this pdf. Keep it short\n",
      "    Chatbot:\n",
      "    \u001b[0m\n",
      "According to the provided PDF, Harsh Gupta's CGPA (Cumulative Grade Point Average) for Master of Computer Application – AI/ML is 7.8.\n",
      "\u001b[1m> Finished chain.\u001b[0m\n",
      "\n",
      "\u001b[1m> Finished chain.\u001b[0m\n",
      "\n",
      "\u001b[1m> Finished chain.\u001b[0m\n"
     ]
    },
    {
     "data": {
      "text/plain": [
       "{'query': 'what is the GPA of harsh in MAster of computer Application. Only from this pdf. Keep it short',\n",
       " 'result': \"According to the provided PDF, Harsh Gupta's CGPA (Cumulative Grade Point Average) for Master of Computer Application – AI/ML is 7.8.\"}"
      ]
     },
     "execution_count": 9,
     "metadata": {},
     "output_type": "execute_result"
    }
   ],
   "source": [
    "qa_chain.invoke({\"query\": query})"
   ]
  },
  {
   "cell_type": "code",
   "execution_count": null,
   "id": "24cb43c3-223d-41c6-82c9-3a277e13a0f7",
   "metadata": {},
   "outputs": [],
   "source": []
  }
 ],
 "metadata": {
  "kernelspec": {
   "display_name": "Python 3 (ipykernel)",
   "language": "python",
   "name": "python3"
  },
  "language_info": {
   "codemirror_mode": {
    "name": "ipython",
    "version": 3
   },
   "file_extension": ".py",
   "mimetype": "text/x-python",
   "name": "python",
   "nbconvert_exporter": "python",
   "pygments_lexer": "ipython3",
   "version": "3.11.5"
  }
 },
 "nbformat": 4,
 "nbformat_minor": 5
}
